{
 "cells": [
  {
   "cell_type": "markdown",
   "metadata": {},
   "source": [
    "Create a data generator "
   ]
  },
  {
   "cell_type": "code",
   "execution_count": 7,
   "metadata": {
    "collapsed": false
   },
   "outputs": [
    {
     "name": "stdout",
     "output_type": "stream",
     "text": [
      "Found 1889 images belonging to 6 classes.\n",
      "Found 646 images belonging to 6 classes.\n",
      "Found 338 images belonging to 6 classes.\n"
     ]
    }
   ],
   "source": [
    "from keras.preprocessing.image import ImageDataGenerator\n",
    "import os\n",
    "\n",
    "folderName = 'transfer data 0.1'\n",
    "\n",
    "trainDir = folderName + '/movie_train'\n",
    "validDir = folderName + '/movie_valid'\n",
    "testDir = folderName + '/movie_test'\n",
    "BatchNum = 5\n",
    "Height = 108\n",
    "Width = 192\n",
    "Channels = 3\n",
    "\n",
    "#Look through the data to get the number of classes\n",
    "directors = os.listdir(trainDir)\n",
    "numClasses = len(directors)\n",
    "\n",
    "#preprocess_input is the ResNet50 specific preprocessing function\n",
    "trainData_gen = ImageDataGenerator(rescale=1/255,\n",
    "                                   rotation_range = 90,\n",
    "                                   horizontal_flip = True,\n",
    "                                   vertical_flip = True)\n",
    "\n",
    "train_gen = trainData_gen.flow_from_directory(trainDir, target_size=(Height,Width),\n",
    "                                              batch_size = BatchNum)\n",
    "\n",
    "validData_gen = ImageDataGenerator(rescale=1/255,\n",
    "                                   rotation_range = 90,\n",
    "                                   horizontal_flip = True,\n",
    "                                   vertical_flip = True)\n",
    "\n",
    "valid_gen = validData_gen.flow_from_directory(validDir, target_size=(Height,Width),\n",
    "                                              batch_size = BatchNum)\n",
    "\n",
    "testData_gen = ImageDataGenerator(rescale=1/255,\n",
    "                                  rotation_range = 90,\n",
    "                                  horizontal_flip = True,\n",
    "                                  vertical_flip = True)\n",
    "\n",
    "test_gen = testData_gen.flow_from_directory(testDir, target_size=(Height,Width),\n",
    "                                              batch_size = BatchNum)"
   ]
  },
  {
   "cell_type": "markdown",
   "metadata": {},
   "source": [
    "Set up the model"
   ]
  },
  {
   "cell_type": "code",
   "execution_count": 8,
   "metadata": {
    "collapsed": false
   },
   "outputs": [
    {
     "name": "stdout",
     "output_type": "stream",
     "text": [
      "Model: \"sequential_2\"\n",
      "_________________________________________________________________\n",
      "Layer (type)                 Output Shape              Param #   \n",
      "=================================================================\n",
      "conv2d_5 (Conv2D)            (None, 108, 192, 20)      540       \n",
      "_________________________________________________________________\n",
      "batch_normalization_6 (Batch (None, 108, 192, 20)      80        \n",
      "_________________________________________________________________\n",
      "activation_6 (Activation)    (None, 108, 192, 20)      0         \n",
      "_________________________________________________________________\n",
      "dropout_5 (Dropout)          (None, 108, 192, 20)      0         \n",
      "_________________________________________________________________\n",
      "conv2d_6 (Conv2D)            (None, 108, 192, 20)      3600      \n",
      "_________________________________________________________________\n",
      "batch_normalization_7 (Batch (None, 108, 192, 20)      80        \n",
      "_________________________________________________________________\n",
      "activation_7 (Activation)    (None, 108, 192, 20)      0         \n",
      "_________________________________________________________________\n",
      "max_pooling2d_3 (MaxPooling2 (None, 54, 96, 20)        0         \n",
      "_________________________________________________________________\n",
      "dropout_6 (Dropout)          (None, 54, 96, 20)        0         \n",
      "_________________________________________________________________\n",
      "conv2d_7 (Conv2D)            (None, 54, 96, 20)        3600      \n",
      "_________________________________________________________________\n",
      "batch_normalization_8 (Batch (None, 54, 96, 20)        80        \n",
      "_________________________________________________________________\n",
      "activation_8 (Activation)    (None, 54, 96, 20)        0         \n",
      "_________________________________________________________________\n",
      "dropout_7 (Dropout)          (None, 54, 96, 20)        0         \n",
      "_________________________________________________________________\n",
      "conv2d_8 (Conv2D)            (None, 54, 96, 20)        3600      \n",
      "_________________________________________________________________\n",
      "batch_normalization_9 (Batch (None, 54, 96, 20)        80        \n",
      "_________________________________________________________________\n",
      "activation_9 (Activation)    (None, 54, 96, 20)        0         \n",
      "_________________________________________________________________\n",
      "max_pooling2d_4 (MaxPooling2 (None, 27, 48, 20)        0         \n",
      "_________________________________________________________________\n",
      "dropout_8 (Dropout)          (None, 27, 48, 20)        0         \n",
      "_________________________________________________________________\n",
      "flatten_2 (Flatten)          (None, 25920)             0         \n",
      "_________________________________________________________________\n",
      "dense_3 (Dense)              (None, 50)                1296000   \n",
      "_________________________________________________________________\n",
      "batch_normalization_10 (Batc (None, 50)                200       \n",
      "_________________________________________________________________\n",
      "activation_10 (Activation)   (None, 50)                0         \n",
      "_________________________________________________________________\n",
      "dense_4 (Dense)              (None, 6)                 306       \n",
      "=================================================================\n",
      "Total params: 1,308,166\n",
      "Trainable params: 1,307,906\n",
      "Non-trainable params: 260\n",
      "_________________________________________________________________\n"
     ]
    }
   ],
   "source": [
    "from tensorflow import keras\n",
    "from keras.layers import Dense, Flatten, Dropout\n",
    "from keras.layers import Conv2D, MaxPooling2D, BatchNormalization, Activation\n",
    "from keras.models import Sequential\n",
    "from keras.regularizers import l2\n",
    "from keras.constraints import maxnorm\n",
    "from keras.optimizers import SGD, Adam\n",
    "\n",
    "#Define CNN\n",
    "#Number of Filters\n",
    "K = 20\n",
    "#L2 regularization parameter\n",
    "lam = .01\n",
    "#Number of Neurons\n",
    "N = 50\n",
    "#Dropout Rate\n",
    "r = 0.4\n",
    "#Learning Rate\n",
    "lr = 0.001\n",
    "#Input Shape\n",
    "inputShape = (Height,Width,Channels)\n",
    "\n",
    "model = Sequential()\n",
    "model.add(Conv2D(K, kernel_size=(3,3),strides=(1,1),padding='same', use_bias=False,  \n",
    "                 kernel_regularizer=l2(lam), input_shape = inputShape))\n",
    "model.add(BatchNormalization())\n",
    "model.add(Activation('relu'))\n",
    "model.add(Dropout(r))\n",
    "model.add(Conv2D(K, kernel_size=(3,3),strides=(1,1),padding='same', use_bias=False, \n",
    "                 kernel_regularizer=l2(lam)))\n",
    "model.add(BatchNormalization())\n",
    "model.add(Activation('relu'))\n",
    "model.add(MaxPooling2D(pool_size=(2,2), strides=(2,2)))\n",
    "model.add(Dropout(r))\n",
    "\n",
    "model.add(Conv2D(K, kernel_size=(3,3),strides=(1,1),padding='same', use_bias=False,  \n",
    "                 kernel_regularizer=l2(lam)))\n",
    "model.add(BatchNormalization())\n",
    "model.add(Activation('relu'))\n",
    "model.add(Dropout(r))\n",
    "model.add(Conv2D(K, kernel_size=(3,3),strides=(1,1),padding='same', use_bias=False, \n",
    "                 kernel_regularizer=l2(lam)))\n",
    "model.add(BatchNormalization())\n",
    "model.add(Activation('relu'))\n",
    "model.add(MaxPooling2D(pool_size=(2,2), strides=(2,2)))\n",
    "\n",
    "#Fully Connected Layer\n",
    "model.add(Dropout(r))\n",
    "model.add(Flatten())\n",
    "model.add(Dense(N, kernel_regularizer=l2(lam),use_bias=False))\n",
    "model.add(BatchNormalization())\n",
    "model.add(Activation('relu'))\n",
    "model.add(Dense(numClasses, activation='softmax'))\n",
    "\n",
    "model.compile(loss='categorical_crossentropy',\n",
    "              optimizer=Adam(lr=lr),\n",
    "              metrics=['accuracy'])\n",
    "model.summary()"
   ]
  },
  {
   "cell_type": "markdown",
   "metadata": {},
   "source": [
    "Train the Model"
   ]
  },
  {
   "cell_type": "code",
   "execution_count": 9,
   "metadata": {
    "collapsed": false
   },
   "outputs": [
    {
     "name": "stdout",
     "output_type": "stream",
     "text": [
      "Epoch 1/5\n",
      "378/378 [==============================] - 82s 216ms/step - loss: 3.4190 - accuracy: 0.4172 - val_loss: 2.1984 - val_accuracy: 0.2554\n",
      "Epoch 2/5\n",
      "378/378 [==============================] - 80s 212ms/step - loss: 2.6371 - accuracy: 0.4934 - val_loss: 2.8705 - val_accuracy: 0.2167\n",
      "Epoch 3/5\n",
      "378/378 [==============================] - 80s 212ms/step - loss: 2.3919 - accuracy: 0.5040 - val_loss: 3.0401 - val_accuracy: 0.3437\n",
      "Epoch 4/5\n",
      "378/378 [==============================] - 80s 213ms/step - loss: 2.2358 - accuracy: 0.5140 - val_loss: 1.9862 - val_accuracy: 0.4087\n",
      "Epoch 5/5\n",
      "378/378 [==============================] - 81s 213ms/step - loss: 2.1472 - accuracy: 0.5394 - val_loss: 2.8378 - val_accuracy: 0.2709\n",
      "2.9564499855041504\n",
      "0.3461538553237915\n"
     ]
    }
   ],
   "source": [
    "import matplotlib.pyplot as plt\n",
    "import numpy as np\n",
    "\n",
    "epochs = 5\n",
    "\n",
    "history = model.fit_generator(train_gen,\n",
    "                                  epochs=epochs,\n",
    "                                  verbose=1,\n",
    "                                  validation_data = valid_gen)\n",
    "\n",
    "#plt.plot(range(1,epochs+1), history.history['accuracy'])\n",
    "#plt.xlabel('Epochs')\n",
    "#plt.ylabel('Accuracy')\n",
    "#plt.show()\n",
    "\n",
    "score = model.evaluate_generator(test_gen)\n",
    "print(score[0])\n",
    "print(score[1])"
   ]
  },
  {
   "cell_type": "code",
   "execution_count": 13,
   "metadata": {
    "collapsed": false,
    "scrolled": false
   },
   "outputs": [
    {
     "data": {
      "image/png": "[encoded data removed]",
      "text/plain": [
       "<Figure size 432x288 with 1 Axes>"
      ]
     },
     "metadata": {
      "needs_background": "light"
     },
     "output_type": "display_data"
    }
   ],
   "source": [
    "plt.plot(range(1,epochs+1), history.history['accuracy'],'b')\n",
    "plt.plot(range(1,epochs+1),history.history['val_accuracy'],'r')\n",
    "plt.xlabel('Epochs')\n",
    "plt.xticks([1,2,3,4,5])\n",
    "plt.ylabel('Accuracy')\n",
    "plt.legend(['Training','Validation'])\n",
    "plt.savefig('colorAccVEpoch.png')"
   ]
  },
  {
   "cell_type": "code",
   "execution_count": null,
   "metadata": {
    "collapsed": false
   },
   "outputs": [],
   "source": []
  },
  {
   "cell_type": "code",
   "execution_count": 11,
   "metadata": {
    "collapsed": false
   },
   "outputs": [
    {
     "name": "stdout",
     "output_type": "stream",
     "text": [
      "[[11  6 24  1  1  6]\n",
      " [13  7 20  4  5 10]\n",
      " [15 10 28  2  2  6]\n",
      " [ 9 10 25  1  1  5]\n",
      " [ 9 16 26  1  4 11]\n",
      " [ 9  5 23  3  5  4]]\n"
     ]
    }
   ],
   "source": [
    "from sklearn.metrics import confusion_matrix\n",
    "\n",
    "guess = model.predict_generator(test_gen)\n",
    "truth = test_gen.classes\n",
    "\n",
    "matrix = confusion_matrix(truth,guess.argmax(axis=1))\n",
    "print(matrix)"
   ]
  },
  {
   "cell_type": "code",
   "execution_count": 12,
   "metadata": {
    "collapsed": false
   },
   "outputs": [
    {
     "data": {
      "image/png": "[encoded data removed]",
      "text/plain": [
       "<Figure size 432x288 with 1 Axes>"
      ]
     },
     "metadata": {
      "needs_background": "light"
     },
     "output_type": "display_data"
    }
   ],
   "source": [
    "import seaborn as sn\n",
    "import pandas as pd\n",
    "\n",
    "# Plot the confusion matrix as a heatmap\n",
    "\n",
    "sn.heatmap(matrix,cmap=sn.light_palette(\"green\"),annot=True,cbar=False)\n",
    "sn.heatmap(matrix,mask = np.eye(6),cmap=sn.light_palette(\"red\"),annot=True,cbar=False)\n",
    "plt.ylabel('True Label')\n",
    "ax = plt.gca()\n",
    "plt.xlabel('Predicted Label')\n",
    "ax.xaxis.tick_top()\n",
    "ax.xaxis.set_label_position('top')\n",
    "plt.savefig('colorConfuse.png')\n"
   ]
  },
  {
   "cell_type": "code",
   "execution_count": null,
   "metadata": {
    "collapsed": true
   },
   "outputs": [],
   "source": []
  }
 ],
 "metadata": {
  "kernelspec": {
   "display_name": "Python 3",
   "language": "python",
   "name": "python3"
  },
  "language_info": {
   "codemirror_mode": {
    "name": "ipython",
    "version": 3
   },
   "file_extension": ".py",
   "mimetype": "text/x-python",
   "name": "python",
   "nbconvert_exporter": "python",
   "pygments_lexer": "ipython3",
   "version": "3.5.3"
  }
 },
 "nbformat": 4,
 "nbformat_minor": 0
}
