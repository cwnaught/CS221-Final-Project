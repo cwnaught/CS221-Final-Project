{
 "cells": [
  {
   "cell_type": "code",
   "execution_count": 9,
   "metadata": {
    "collapsed": true
   },
   "outputs": [],
   "source": [
    "import numpy as np # linear algebra\n",
    "import pandas as pd # data processing, CSV file I/O (e.g. pd.read_csv)\n",
    "import tensorflow as tf\n",
    "import os\n",
    "import json\n",
    "\n",
    "import matplotlib.pyplot as plt"
   ]
  },
  {
   "cell_type": "code",
   "execution_count": 10,
   "metadata": {
    "collapsed": false
   },
   "outputs": [],
   "source": [
    "from tensorflow import keras\n",
    "from keras.layers import Dense, Flatten, Dropout\n",
    "from keras.layers import Conv3D, MaxPooling3D, BatchNormalization, Activation\n",
    "from keras.models import Sequential\n",
    "from keras.regularizers import l2\n",
    "from keras.optimizers import SGD, Adam\n",
    "\n",
    "from sklearn.metrics import confusion_matrix"
   ]
  },
  {
   "cell_type": "code",
   "execution_count": 11,
   "metadata": {
    "collapsed": false
   },
   "outputs": [
    {
     "name": "stdout",
     "output_type": "stream",
     "text": [
      "(3, 72, 128, 1)\n",
      "6\n"
     ]
    }
   ],
   "source": [
    "# Import Data\n",
    "x_train = np.load('concat_data_small/x_train.npy')\n",
    "y_train = np.load('concat_data_small/y_train.npy')\n",
    "\n",
    "x_valid = np.load('concat_data_small/x_valid.npy')\n",
    "y_valid = np.load('concat_data_small/y_valid.npy')\n",
    "\n",
    "x_test = np.load('concat_data_small/x_test.npy')\n",
    "y_test = np.load('concat_data_small/y_test.npy')\n",
    "\n",
    "x_train = x_train.astype('float32')\n",
    "x_valid = x_valid.astype('float32')\n",
    "x_test = x_test.astype('float32')\n",
    "\n",
    "x_train /= 255\n",
    "x_valid /= 255\n",
    "x_test /= 255\n",
    "\n",
    "numClasses = int(np.max(y_train)+1)\n",
    "y_train = keras.utils.to_categorical(y_train,numClasses)\n",
    "y_valid = keras.utils.to_categorical(y_valid,numClasses)\n",
    "y_test = keras.utils.to_categorical(y_test,numClasses)\n",
    "\n",
    "inputShape = np.shape(x_train)[1:]\n",
    "\n",
    "print(inputShape)\n",
    "print(numClasses)"
   ]
  },
  {
   "cell_type": "code",
   "execution_count": 12,
   "metadata": {
    "collapsed": false
   },
   "outputs": [
    {
     "name": "stdout",
     "output_type": "stream",
     "text": [
      "Model: \"sequential_3\"\n",
      "_________________________________________________________________\n",
      "Layer (type)                 Output Shape              Param #   \n",
      "=================================================================\n",
      "conv3d_5 (Conv3D)            (None, 3, 72, 128, 20)    540       \n",
      "_________________________________________________________________\n",
      "batch_normalization_7 (Batch (None, 3, 72, 128, 20)    80        \n",
      "_________________________________________________________________\n",
      "activation_7 (Activation)    (None, 3, 72, 128, 20)    0         \n",
      "_________________________________________________________________\n",
      "dropout_7 (Dropout)          (None, 3, 72, 128, 20)    0         \n",
      "_________________________________________________________________\n",
      "conv3d_6 (Conv3D)            (None, 3, 72, 128, 20)    10800     \n",
      "_________________________________________________________________\n",
      "batch_normalization_8 (Batch (None, 3, 72, 128, 20)    80        \n",
      "_________________________________________________________________\n",
      "activation_8 (Activation)    (None, 3, 72, 128, 20)    0         \n",
      "_________________________________________________________________\n",
      "max_pooling3d_3 (MaxPooling3 (None, 3, 36, 64, 20)     0         \n",
      "_________________________________________________________________\n",
      "dropout_8 (Dropout)          (None, 3, 36, 64, 20)     0         \n",
      "_________________________________________________________________\n",
      "flatten_3 (Flatten)          (None, 138240)            0         \n",
      "_________________________________________________________________\n",
      "dense_5 (Dense)              (None, 50)                6912000   \n",
      "_________________________________________________________________\n",
      "batch_normalization_9 (Batch (None, 50)                200       \n",
      "_________________________________________________________________\n",
      "activation_9 (Activation)    (None, 50)                0         \n",
      "_________________________________________________________________\n",
      "dropout_9 (Dropout)          (None, 50)                0         \n",
      "_________________________________________________________________\n",
      "dense_6 (Dense)              (None, 6)                 300       \n",
      "=================================================================\n",
      "Total params: 6,924,000\n",
      "Trainable params: 6,923,820\n",
      "Non-trainable params: 180\n",
      "_________________________________________________________________\n"
     ]
    }
   ],
   "source": [
    "#Define CNN\n",
    "#Number of Filters\n",
    "K = 20\n",
    "#L2 regularization parameter\n",
    "lam = .01\n",
    "#Number of Neurons\n",
    "N = 50\n",
    "#Dropout Rate\n",
    "r = 0.4\n",
    "#Learning Rate\n",
    "lr = 0.001\n",
    "\n",
    "model = Sequential()\n",
    "model.add(Conv3D(K, kernel_size=(3,3,3),strides=(1,1,1),padding='same',  \n",
    "                 kernel_regularizer=l2(lam), input_shape = inputShape, use_bias=False))\n",
    "model.add(BatchNormalization())\n",
    "model.add(Activation('relu'))\n",
    "model.add(Dropout(r))\n",
    "model.add(Conv3D(K, kernel_size=(3,3,3),strides=(1,1,1),padding='same',  \n",
    "                 kernel_regularizer=l2(lam), input_shape = inputShape, use_bias=False))\n",
    "model.add(BatchNormalization())\n",
    "model.add(Activation('relu'))\n",
    "model.add(MaxPooling3D(pool_size=(1,2,2), strides=(1,2,2)))\n",
    "model.add(Dropout(r))\n",
    "\n",
    "#Fully Connected Layer\n",
    "model.add(Flatten())\n",
    "model.add(Dense(N, kernel_regularizer=l2(lam),use_bias=False))\n",
    "model.add(BatchNormalization())\n",
    "model.add(Activation('relu'))\n",
    "model.add(Dropout(r))\n",
    "model.add(Dense(int(numClasses), activation='softmax',use_bias=False))\n",
    "\n",
    "model.compile(loss='categorical_crossentropy',\n",
    "              optimizer=Adam(lr=lr),\n",
    "              metrics=['accuracy'])\n",
    "model.summary()"
   ]
  },
  {
   "cell_type": "code",
   "execution_count": 13,
   "metadata": {
    "collapsed": false
   },
   "outputs": [
    {
     "name": "stdout",
     "output_type": "stream",
     "text": [
      "Train on 1563 samples, validate on 535 samples\n",
      "Epoch 1/5\n",
      "1563/1563 [==============================] - 286s 183ms/step - loss: 4.5293 - accuracy: 0.3666 - val_loss: 5.1733 - val_accuracy: 0.1794\n",
      "Epoch 2/5\n",
      "1563/1563 [==============================] - 285s 182ms/step - loss: 3.9967 - accuracy: 0.5189 - val_loss: 4.5958 - val_accuracy: 0.3402\n",
      "Epoch 3/5\n",
      "1563/1563 [==============================] - 285s 182ms/step - loss: 3.8884 - accuracy: 0.5483 - val_loss: 5.3799 - val_accuracy: 0.2411\n",
      "Epoch 4/5\n",
      "1563/1563 [==============================] - 286s 183ms/step - loss: 3.9448 - accuracy: 0.5745 - val_loss: 5.4714 - val_accuracy: 0.3065\n",
      "Epoch 5/5\n",
      "1563/1563 [==============================] - 285s 182ms/step - loss: 4.1055 - accuracy: 0.5829 - val_loss: 5.3081 - val_accuracy: 0.2299\n"
     ]
    },
    {
     "data": {
      "image/png": "[encoded data removed]",
      "text/plain": [
       "<Figure size 432x288 with 1 Axes>"
      ]
     },
     "metadata": {
      "needs_background": "light"
     },
     "output_type": "display_data"
    },
    {
     "name": "stdout",
     "output_type": "stream",
     "text": [
      "280/280 [==============================] - 8s 29ms/step\n",
      "Test Accuracy: 0.18571428954601288\n"
     ]
    }
   ],
   "source": [
    "# Train the model and plot the validation error over time!\n",
    "batchSize = 5\n",
    "epochs = 5\n",
    "\n",
    "#x_train = np.append(x_train,x_valid,axis=0)\n",
    "#y_train = np.append(y_train,y_valid,axis=0)\n",
    "\n",
    "history = model.fit(x_train, y_train,\n",
    "                    batch_size=batchSize,\n",
    "                    epochs=epochs,\n",
    "                    verbose=1,\n",
    "                    validation_data=(x_valid,y_valid))\n",
    "                    #validation_split = 0.2)                    \n",
    "\n",
    "plt.plot(range(1,epochs+1), history.history['accuracy'])\n",
    "plt.xlabel('Epochs')\n",
    "plt.ylabel('Accuracy')\n",
    "plt.show()\n",
    "\n",
    "# Now check the test error to see how we're really doing!\n",
    "score = model.evaluate(x_test, y_test)\n",
    "print('Test Accuracy:', score[1])"
   ]
  },
  {
   "cell_type": "code",
   "execution_count": 14,
   "metadata": {
    "collapsed": false
   },
   "outputs": [
    {
     "data": {
      "text/plain": [
       "array([[0.0211617 , 0.63355494, 0.06539244, 0.0564841 , 0.01331719,\n",
       "        0.2100897 ],\n",
       "       [0.10678709, 0.61116964, 0.00154571, 0.01644238, 0.13115475,\n",
       "        0.13290036],\n",
       "       [0.05121095, 0.64969426, 0.0035446 , 0.02284297, 0.06925072,\n",
       "        0.20345654],\n",
       "       ...,\n",
       "       [0.02384834, 0.16352913, 0.0047459 , 0.01177577, 0.79154044,\n",
       "        0.00456038],\n",
       "       [0.03553499, 0.12213729, 0.00384949, 0.02408549, 0.80460846,\n",
       "        0.00978425],\n",
       "       [0.01574181, 0.02803002, 0.00202574, 0.00667073, 0.9425896 ,\n",
       "        0.00494213]], dtype=float32)"
      ]
     },
     "execution_count": 14,
     "metadata": {},
     "output_type": "execute_result"
    }
   ],
   "source": [
    "# Now check the test error to see how we're really doing!\n",
    "#score = model.evaluate(x_test, y_test)\n",
    "#print('Test Accuracy:', score[1])\n",
    "\n",
    "predictions = model.predict(x_test)\n",
    "predictions"
   ]
  },
  {
   "cell_type": "code",
   "execution_count": 15,
   "metadata": {
    "collapsed": false
   },
   "outputs": [
    {
     "name": "stdout",
     "output_type": "stream",
     "text": [
      "[[20 15  0  0  0  6]\n",
      " [ 0 28  0  0 18  3]\n",
      " [ 3 26  0  0  0 23]\n",
      " [ 5  1  0  3  0 33]\n",
      " [33  4  0 11  0  8]\n",
      " [ 0 20  0  0 19  1]]\n"
     ]
    }
   ],
   "source": [
    "#Confusion Matrix\n",
    "matrix = confusion_matrix(y_test.argmax(axis=1),predictions.argmax(axis=1))\n",
    "print(matrix)"
   ]
  },
  {
   "cell_type": "code",
   "execution_count": 16,
   "metadata": {
    "collapsed": false,
    "scrolled": true
   },
   "outputs": [
    {
     "data": {
      "image/png": "[encoded data removed]",
      "text/plain": [
       "<Figure size 432x288 with 1 Axes>"
      ]
     },
     "metadata": {
      "needs_background": "light"
     },
     "output_type": "display_data"
    }
   ],
   "source": [
    "plt.plot(range(1,epochs+1), history.history['accuracy'],'b')\n",
    "plt.plot(range(1,epochs+1),history.history['val_accuracy'],'r')\n",
    "plt.xlabel('Epochs')\n",
    "plt.xticks([1,2,3,4,5])\n",
    "plt.ylabel('Accuracy')\n",
    "plt.legend(['Training','Validation'])\n",
    "plt.savefig('concatAccVEpoch.png')"
   ]
  },
  {
   "cell_type": "code",
   "execution_count": 17,
   "metadata": {
    "collapsed": false
   },
   "outputs": [
    {
     "data": {
      "image/png": "[encoded data removed]",
      "text/plain": [
       "<Figure size 432x288 with 1 Axes>"
      ]
     },
     "metadata": {
      "needs_background": "light"
     },
     "output_type": "display_data"
    }
   ],
   "source": [
    "import seaborn as sn\n",
    "import pandas as pd\n",
    "\n",
    "# Plot the confusion matrix as a heatmap\n",
    "\n",
    "sn.heatmap(matrix,cmap=sn.light_palette(\"green\"),annot=True,cbar=False)\n",
    "sn.heatmap(matrix,mask = np.eye(6),cmap=sn.light_palette(\"red\"),annot=True,cbar=False)\n",
    "plt.ylabel('True Label')\n",
    "ax = plt.gca()\n",
    "plt.xlabel('Predicted Label')\n",
    "ax.xaxis.tick_top()\n",
    "ax.xaxis.set_label_position('top')\n",
    "plt.savefig('concatConfuse.png')\n"
   ]
  },
  {
   "cell_type": "code",
   "execution_count": null,
   "metadata": {
    "collapsed": true
   },
   "outputs": [],
   "source": []
  }
 ],
 "metadata": {
  "kernelspec": {
   "display_name": "Python 3",
   "language": "python",
   "name": "python3"
  },
  "language_info": {
   "codemirror_mode": {
    "name": "ipython",
    "version": 3
   },
   "file_extension": ".py",
   "mimetype": "text/x-python",
   "name": "python",
   "nbconvert_exporter": "python",
   "pygments_lexer": "ipython3",
   "version": "3.5.3"
  }
 },
 "nbformat": 4,
 "nbformat_minor": 0
}
