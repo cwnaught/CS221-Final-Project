{
 "cells": [
  {
   "cell_type": "code",
   "execution_count": 1,
   "metadata": {
    "_cell_guid": "b1076dfc-b9ad-4769-8c92-a6c4dae69d19",
    "_uuid": "8f2839f25d086af736a60e9eeb907d3b93b6e0e5",
    "collapsed": false
   },
   "outputs": [],
   "source": [
    "import numpy as np # linear algebra\n",
    "import pandas as pd # data processing, CSV file I/O (e.g. pd.read_csv)\n",
    "import tensorflow as tf\n",
    "import os\n",
    "import json\n",
    "\n",
    "import matplotlib.pyplot as plt\n"
   ]
  },
  {
   "cell_type": "code",
   "execution_count": 2,
   "metadata": {
    "collapsed": false
   },
   "outputs": [
    {
     "name": "stderr",
     "output_type": "stream",
     "text": [
      "Using TensorFlow backend.\n"
     ]
    }
   ],
   "source": [
    "from tensorflow import keras\n",
    "from keras.layers import Dense, Flatten, Dropout\n",
    "from keras.layers import Conv2D, MaxPooling2D, BatchNormalization, Activation\n",
    "from keras.models import Sequential\n",
    "from keras.regularizers import l2\n",
    "from keras.constraints import maxnorm\n",
    "\n",
    "from sklearn.metrics import confusion_matrix"
   ]
  },
  {
   "cell_type": "code",
   "execution_count": 3,
   "metadata": {
    "collapsed": false,
    "scrolled": true
   },
   "outputs": [
    {
     "name": "stdout",
     "output_type": "stream",
     "text": [
      "(1890, 108, 192, 1)\n",
      "6\n",
      "1.0\n",
      "1.0\n",
      "1.0\n"
     ]
    }
   ],
   "source": [
    "#Import Data\n",
    "x_img = 108\n",
    "y_img = 192\n",
    "#Channels=1 for BW, 3 for Color\n",
    "channels = 1\n",
    "\n",
    "folder = 'tighter_frames'\n",
    "\n",
    "inputShape = (x_img,y_img,channels)\n",
    "\n",
    "fileList_train = []\n",
    "x_train = np.array([])\n",
    "x_train = x_train.reshape(0,x_img,y_img,channels)\n",
    "y_train = np.array([])\n",
    "\n",
    "#Import the dictionary of directors\n",
    "with open('Data/truthVector.json',mode='r') as fp:\n",
    "    truthDict = json.load(fp)\n",
    "\n",
    "    \n",
    "#Import the training data\n",
    "for file in os.listdir(folder + '/blackwhite'):\n",
    "    if file=='Test' or file=='Valid':\n",
    "        continue\n",
    "    #print(file)\n",
    "    #Load the numpy file and reshape to (#examples,xsize,ysize,#channels)    \n",
    "    mov = np.load(folder + '/blackwhite/'+file)\n",
    "    frames = np.shape(mov)[1]\n",
    "    mov = mov.T\n",
    "    mov = mov.reshape(np.shape(mov)[0],x_img,y_img,channels)\n",
    "    \n",
    "    #Record the filename and starting index\n",
    "    fileList_train.append((file[:-7],np.shape(x_train)[0]))\n",
    "\n",
    "    #Append the movie and director\n",
    "    x_train = np.append(x_train,mov,axis=0)\n",
    "    yvec = truthDict[file[:-7] + '.mp4'] * np.ones(frames)\n",
    "    y_train = np.append(y_train,yvec)\n",
    "\n",
    "\n",
    "# Import the validation data\n",
    "x_valid = np.array([])\n",
    "x_valid = x_valid.reshape(0,x_img,y_img,channels)\n",
    "y_valid = np.array([])\n",
    "\n",
    "for file in os.listdir(folder + '/blackwhite/Valid'):\n",
    "    mov = np.load(folder + '/blackwhite/Valid/'+file)\n",
    "    frames = np.shape(mov)[1]\n",
    "    mov = mov.T\n",
    "    mov = mov.reshape(frames,x_img,y_img,channels)\n",
    "    \n",
    "    #Append the movie and director\n",
    "    x_valid = np.append(x_valid,mov,axis=0)\n",
    "    yvec = truthDict[file[:-7]+'.mp4'] * np.ones(frames)\n",
    "    y_valid = np.append(y_valid,yvec)\n",
    "\n",
    "    \n",
    "# Import the test Data    \n",
    "fileList_test = []\n",
    "x_test = np.array([])\n",
    "x_test = x_test.reshape(0,x_img,y_img,channels)\n",
    "y_test = np.array([])\n",
    "\n",
    "for file in os.listdir(folder + '/blackwhite/Test'):\n",
    "    mov = np.load(folder + '/blackwhite/Test/'+file)\n",
    "    frames = np.shape(mov)[1]\n",
    "    mov = mov.T\n",
    "    mov = mov.reshape(frames,x_img,y_img,channels)\n",
    "    \n",
    "    #Record the filename and starting index\n",
    "    fileList_test.append((file[:-7],np.shape(x_train)[0]))\n",
    "    \n",
    "    #Append the movie and director\n",
    "    x_test = np.append(x_test,mov,axis=0)\n",
    "    yvec = truthDict[file[:-7] + '.mp4'] * np.ones(frames)\n",
    "    y_test = np.append(y_test,yvec)\n",
    "    \n",
    "    \n",
    "print(np.shape(x_train))\n",
    "# Shape should be (2513,144,256,#Channels)\n",
    "\n",
    "#Normalize the input\n",
    "x_train = x_train.astype('float32')\n",
    "x_valid = x_valid.astype('float32')\n",
    "x_test = x_test.astype('float32')\n",
    "\n",
    "x_train /= 255\n",
    "x_valid /= 255\n",
    "x_test /= 255\n",
    "\n",
    "\n",
    "numClasses = int(np.max(y_train) + 1)\n",
    "y_train = keras.utils.to_categorical(y_train,numClasses)\n",
    "y_valid = keras.utils.to_categorical(y_valid,numClasses)\n",
    "y_test = keras.utils.to_categorical(y_test,numClasses)\n",
    "\n",
    "print(numClasses)\n",
    "# ^Should be # of directors (6)\n",
    "print(np.max(x_train))\n",
    "print(np.max(x_valid))\n",
    "print(np.max(x_test))\n",
    "# ^Should be 1"
   ]
  },
  {
   "cell_type": "code",
   "execution_count": 4,
   "metadata": {
    "collapsed": false
   },
   "outputs": [
    {
     "name": "stdout",
     "output_type": "stream",
     "text": [
      "(1890, 108, 192, 1)\n",
      "(1890, 6)\n",
      "(646, 108, 192, 1)\n",
      "(646, 6)\n",
      "(338, 108, 192, 1)\n",
      "(338, 6)\n",
      "1.0\n",
      "1.0\n"
     ]
    }
   ],
   "source": [
    "print(np.shape(x_train))\n",
    "print(np.shape(y_train))\n",
    "\n",
    "print(np.shape(x_valid))\n",
    "print(np.shape(y_valid))\n",
    "\n",
    "print(np.shape(x_test))\n",
    "print(np.shape(y_test))\n",
    "\n",
    "print(np.max(x_valid))\n",
    "print(np.max(x_test))"
   ]
  },
  {
   "cell_type": "code",
   "execution_count": null,
   "metadata": {
    "collapsed": false,
    "scrolled": false
   },
   "outputs": [],
   "source": [
    "# #Define CNN\n",
    "# model = Sequential()\n",
    "# model.add(Conv2D(5, kernel_size=(3,3),strides=(1,1),padding='same', activation='relu',\n",
    "#                  input_shape = inputShape))\n",
    "# model.add(MaxPooling2D(pool_size=(2,2), strides=(2,2)))\n",
    "# model.add(Conv2D(5, kernel_size=(3,3),strides=(1,1),padding='same', activation='relu'\n",
    "#                  ))\n",
    "# model.add(MaxPooling2D(pool_size=(2,2), strides=(2,2)))\n",
    "# model.add(Conv2D(5, kernel_size=(3,3),strides=(1,1),padding='same', activation='relu'\n",
    "#                  ))\n",
    "# model.add(MaxPooling2D(pool_size=(2,2), strides=(2,2)))\n",
    "# model.add(Conv2D(5, kernel_size=(3,3),strides=(1,1),padding='same', activation='relu'\n",
    "#                  ))\n",
    "# model.add(MaxPooling2D(pool_size=(2,2), strides=(2,2)))\n",
    "\n",
    "# #Fully Connected Layer\n",
    "# model.add(Flatten())\n",
    "# model.add(Dense(200, activation='relu'))\n",
    "# model.add(Dense(numClasses, activation='softmax'))\n",
    "\n",
    "# model.compile(loss='categorical_crossentropy',\n",
    "#               optimizer='rmsprop',\n",
    "#               metrics=['accuracy'])\n",
    "# model.summary()"
   ]
  },
  {
   "cell_type": "code",
   "execution_count": 11,
   "metadata": {
    "collapsed": false
   },
   "outputs": [
    {
     "name": "stdout",
     "output_type": "stream",
     "text": [
      "Model: \"sequential_3\"\n",
      "_________________________________________________________________\n",
      "Layer (type)                 Output Shape              Param #   \n",
      "=================================================================\n",
      "conv2d_9 (Conv2D)            (None, 108, 192, 10)      90        \n",
      "_________________________________________________________________\n",
      "batch_normalization_11 (Batc (None, 108, 192, 10)      40        \n",
      "_________________________________________________________________\n",
      "activation_11 (Activation)   (None, 108, 192, 10)      0         \n",
      "_________________________________________________________________\n",
      "dropout_9 (Dropout)          (None, 108, 192, 10)      0         \n",
      "_________________________________________________________________\n",
      "conv2d_10 (Conv2D)           (None, 108, 192, 10)      900       \n",
      "_________________________________________________________________\n",
      "batch_normalization_12 (Batc (None, 108, 192, 10)      40        \n",
      "_________________________________________________________________\n",
      "activation_12 (Activation)   (None, 108, 192, 10)      0         \n",
      "_________________________________________________________________\n",
      "max_pooling2d_5 (MaxPooling2 (None, 54, 96, 10)        0         \n",
      "_________________________________________________________________\n",
      "dropout_10 (Dropout)         (None, 54, 96, 10)        0         \n",
      "_________________________________________________________________\n",
      "conv2d_11 (Conv2D)           (None, 54, 96, 10)        900       \n",
      "_________________________________________________________________\n",
      "batch_normalization_13 (Batc (None, 54, 96, 10)        40        \n",
      "_________________________________________________________________\n",
      "activation_13 (Activation)   (None, 54, 96, 10)        0         \n",
      "_________________________________________________________________\n",
      "dropout_11 (Dropout)         (None, 54, 96, 10)        0         \n",
      "_________________________________________________________________\n",
      "conv2d_12 (Conv2D)           (None, 54, 96, 10)        900       \n",
      "_________________________________________________________________\n",
      "batch_normalization_14 (Batc (None, 54, 96, 10)        40        \n",
      "_________________________________________________________________\n",
      "activation_14 (Activation)   (None, 54, 96, 10)        0         \n",
      "_________________________________________________________________\n",
      "max_pooling2d_6 (MaxPooling2 (None, 27, 48, 10)        0         \n",
      "_________________________________________________________________\n",
      "dropout_12 (Dropout)         (None, 27, 48, 10)        0         \n",
      "_________________________________________________________________\n",
      "flatten_3 (Flatten)          (None, 12960)             0         \n",
      "_________________________________________________________________\n",
      "dense_5 (Dense)              (None, 100)               1296000   \n",
      "_________________________________________________________________\n",
      "batch_normalization_15 (Batc (None, 100)               400       \n",
      "_________________________________________________________________\n",
      "activation_15 (Activation)   (None, 100)               0         \n",
      "_________________________________________________________________\n",
      "dense_6 (Dense)              (None, 6)                 606       \n",
      "=================================================================\n",
      "Total params: 1,299,956\n",
      "Trainable params: 1,299,676\n",
      "Non-trainable params: 280\n",
      "_________________________________________________________________\n"
     ]
    }
   ],
   "source": [
    "#Define CNN\n",
    "#Number of Filters\n",
    "K = 10\n",
    "#L2 regularization parameter\n",
    "lam = 1\n",
    "#Number of Neurons\n",
    "N = 100\n",
    "#Dropout Rate\n",
    "r = 0.2\n",
    "\n",
    "model = Sequential()\n",
    "model.add(Conv2D(K, kernel_size=(3,3),strides=(1,1),padding='same', use_bias=False,  \n",
    "                 kernel_regularizer=l2(lam), input_shape = inputShape))\n",
    "model.add(BatchNormalization())\n",
    "model.add(Activation('relu'))\n",
    "model.add(Dropout(r))\n",
    "model.add(Conv2D(K, kernel_size=(3,3),strides=(1,1),padding='same', use_bias=False, \n",
    "                 kernel_regularizer=l2(lam)))\n",
    "model.add(BatchNormalization())\n",
    "model.add(Activation('relu'))\n",
    "model.add(MaxPooling2D(pool_size=(2,2), strides=(2,2)))\n",
    "model.add(Dropout(r))\n",
    "\n",
    "model.add(Conv2D(K, kernel_size=(3,3),strides=(1,1),padding='same', use_bias=False,  \n",
    "                 kernel_regularizer=l2(lam)))\n",
    "model.add(BatchNormalization())\n",
    "model.add(Activation('relu'))\n",
    "model.add(Dropout(r))\n",
    "model.add(Conv2D(K, kernel_size=(3,3),strides=(1,1),padding='same', use_bias=False, \n",
    "                 kernel_regularizer=l2(lam)))\n",
    "model.add(BatchNormalization())\n",
    "model.add(Activation('relu'))\n",
    "model.add(MaxPooling2D(pool_size=(2,2), strides=(2,2)))\n",
    "\n",
    "#Fully Connected Layer\n",
    "model.add(Dropout(r))\n",
    "model.add(Flatten())\n",
    "model.add(Dense(N, kernel_regularizer=l2(lam),use_bias=False))\n",
    "model.add(BatchNormalization())\n",
    "model.add(Activation('relu'))\n",
    "model.add(Dense(numClasses, activation='softmax'))\n",
    "\n",
    "model.compile(loss='categorical_crossentropy',\n",
    "              optimizer='adam',\n",
    "              metrics=['accuracy'])\n",
    "model.summary()"
   ]
  },
  {
   "cell_type": "code",
   "execution_count": null,
   "metadata": {
    "collapsed": false
   },
   "outputs": [],
   "source": [
    "# #Define CNN\n",
    "# #Number of Filters\n",
    "# K = 10\n",
    "# #L2 regularization parameter\n",
    "# lam = .01\n",
    "# #Number of Neurons\n",
    "# N = 50\n",
    "# #Dropout Rate\n",
    "# r = 0.2\n",
    "\n",
    "# model = Sequential()\n",
    "# model.add(Conv2D(K, kernel_size=(3,3),strides=(1,1),padding='same',  \n",
    "#                  kernel_constraint=maxnorm(3), input_shape = inputShape))\n",
    "# model.add(BatchNormalization())\n",
    "# model.add(Activation('relu'))\n",
    "# model.add(Dropout(r))\n",
    "# model.add(Conv2D(K, kernel_size=(3,3),strides=(1,1),padding='same', \n",
    "#                  kernel_constraint=maxnorm(3)))\n",
    "# model.add(BatchNormalization())\n",
    "# model.add(Activation('relu'))\n",
    "# model.add(MaxPooling2D(pool_size=(2,2), strides=(2,2)))\n",
    "# model.add(Dropout(r))\n",
    "\n",
    "# model.add(Conv2D(K, kernel_size=(3,3),strides=(1,1),padding='same',   \n",
    "#                  kernel_constraint=maxnorm(3)))\n",
    "# model.add(BatchNormalization())\n",
    "# model.add(Activation('relu'))\n",
    "# model.add(Dropout(r))\n",
    "# model.add(Conv2D(K, kernel_size=(3,3),strides=(1,1),padding='same',  \n",
    "#                  kernel_constraint=maxnorm(3)))\n",
    "# model.add(BatchNormalization())\n",
    "# model.add(Activation('relu'))\n",
    "# model.add(MaxPooling2D(pool_size=(2,2), strides=(2,2)))\n",
    "\n",
    "# #Fully Connected Layer\n",
    "# model.add(Dropout(r))\n",
    "# model.add(Flatten())\n",
    "# model.add(Dense(N, kernel_constraint=maxnorm(3)))\n",
    "# model.add(BatchNormalization())\n",
    "# model.add(Activation('relu'))\n",
    "# model.add(Dense(numClasses, activation='softmax'))\n",
    "\n",
    "# model.compile(loss='categorical_crossentropy',\n",
    "#               optimizer='adam',\n",
    "#               metrics=['accuracy'])\n",
    "# model.summary()"
   ]
  },
  {
   "cell_type": "code",
   "execution_count": 15,
   "metadata": {
    "collapsed": false,
    "scrolled": false
   },
   "outputs": [
    {
     "name": "stdout",
     "output_type": "stream",
     "text": [
      "Train on 2028 samples, validate on 508 samples\n",
      "Epoch 1/5\n",
      "2028/2028 [==============================] - 144s 71ms/step - loss: 6.4487 - accuracy: 0.3935 - val_loss: 5.0271 - val_accuracy: 0.4429\n",
      "Epoch 2/5\n",
      "2028/2028 [==============================] - 154s 76ms/step - loss: 6.0270 - accuracy: 0.4103 - val_loss: 6.4966 - val_accuracy: 0.1594\n",
      "Epoch 3/5\n",
      "2028/2028 [==============================] - 149s 74ms/step - loss: 5.6338 - accuracy: 0.4186 - val_loss: 6.0883 - val_accuracy: 0.1870\n",
      "Epoch 4/5\n",
      "2028/2028 [==============================] - 150s 74ms/step - loss: 5.5803 - accuracy: 0.4127 - val_loss: 4.8394 - val_accuracy: 0.1673\n",
      "Epoch 5/5\n",
      "2028/2028 [==============================] - 143s 71ms/step - loss: 4.9947 - accuracy: 0.4167 - val_loss: 5.0513 - val_accuracy: 0.0709\n"
     ]
    },
    {
     "data": {
      "image/png": "[encoded data removed]",
      "text/plain": [
       "<Figure size 432x288 with 1 Axes>"
      ]
     },
     "metadata": {
      "needs_background": "light"
     },
     "output_type": "display_data"
    },
    {
     "name": "stdout",
     "output_type": "stream",
     "text": [
      "338/338 [==============================] - 9s 28ms/step\n",
      "Test Accuracy: 0.2248520702123642\n"
     ]
    }
   ],
   "source": [
    "# Train the model and plot the validation error over time!\n",
    "batchSize = 5\n",
    "epochs = 5\n",
    "\n",
    "x_train = np.append(x_train,x_valid,axis=0)\n",
    "y_train = np.append(y_train,y_valid,axis=0)\n",
    "\n",
    "history = model.fit(x_train, y_train,\n",
    "                    batch_size=batchSize,\n",
    "                    epochs=epochs,\n",
    "                    verbose=1,\n",
    "                    #validation_data=(x_valid,y_valid)\n",
    "                    validation_split = 0.2)                    \n",
    "\n",
    "plt.plot(range(1,epochs+1), history.history['accuracy'])\n",
    "plt.xlabel('Epochs')\n",
    "plt.ylabel('Accuracy')\n",
    "plt.show()\n",
    "\n",
    "# Now check the test error to see how we're really doing!\n",
    "score = model.evaluate(x_test, y_test)\n",
    "print('Test Accuracy:', score[1])"
   ]
  },
  {
   "cell_type": "code",
   "execution_count": 16,
   "metadata": {
    "collapsed": false
   },
   "outputs": [
    {
     "data": {
      "text/plain": [
       "array([[0.20619468, 0.09285633, 0.23448552, 0.21785884, 0.06147122,\n",
       "        0.18713336],\n",
       "       [0.07714823, 0.25157994, 0.2836456 , 0.13090476, 0.15689316,\n",
       "        0.09982823],\n",
       "       [0.20846891, 0.12260985, 0.18972175, 0.17478184, 0.09493155,\n",
       "        0.20948608],\n",
       "       ...,\n",
       "       [0.02606895, 0.19820751, 0.1387214 , 0.2761736 , 0.29307646,\n",
       "        0.06775212],\n",
       "       [0.04203689, 0.2878557 , 0.28331503, 0.15463984, 0.16519272,\n",
       "        0.06695982],\n",
       "       [0.01150115, 0.1809728 , 0.0998361 , 0.31158578, 0.35816637,\n",
       "        0.03793782]], dtype=float32)"
      ]
     },
     "execution_count": 16,
     "metadata": {},
     "output_type": "execute_result"
    }
   ],
   "source": [
    "# Now check the test error to see how we're really doing!\n",
    "#score = model.evaluate(x_test, y_test)\n",
    "#print('Test Accuracy:', score[1])\n",
    "\n",
    "predictions = model.predict(x_test)\n",
    "predictions"
   ]
  },
  {
   "cell_type": "code",
   "execution_count": 17,
   "metadata": {
    "collapsed": false
   },
   "outputs": [
    {
     "name": "stdout",
     "output_type": "stream",
     "text": [
      "[[33  2  1 13  0  0]\n",
      " [ 0 12  0 26 21  0]\n",
      " [ 0 14  7  1 41  0]\n",
      " [10 12  3 24  0  2]\n",
      " [43  0  2 20  0  2]\n",
      " [ 0  1  1  0 47  0]]\n"
     ]
    }
   ],
   "source": [
    "#Confusion Matrix\n",
    "matrix = confusion_matrix(y_test.argmax(axis=1),predictions.argmax(axis=1))\n",
    "print(matrix)"
   ]
  },
  {
   "cell_type": "code",
   "execution_count": null,
   "metadata": {
    "collapsed": false
   },
   "outputs": [],
   "source": []
  },
  {
   "cell_type": "code",
   "execution_count": null,
   "metadata": {
    "collapsed": false
   },
   "outputs": [],
   "source": [
    "\"\"\"\n",
    "Confusion Matrix:\n",
    "Each column is a predicted director\n",
    "Each row is the actual director\n",
    "\n",
    "Matrix\n",
    "[[2 0 0\n",
    "  0 0 1\n",
    "  1 0 2]]\n",
    "\n",
    "Entry matrix[2,1]=1 means that we have one prediction for director 2 \n",
    "where the actual director was director 1\n",
    "\n",
    "Director Dictionary:\n",
    "Coen Brothers = 0\n",
    "Michael Bay = 1\n",
    "Quentin Tarantino = 2\n",
    "Stanley Kubrick = 3\n",
    "Wes Anderson = 4\n",
    "Zack Snyder = 5\n",
    "\"\"\""
   ]
  },
  {
   "cell_type": "markdown",
   "metadata": {},
   "source": [
    "# BELOW IS ALL SUPPORRT STUFF - DON'T RUN!"
   ]
  },
  {
   "cell_type": "code",
   "execution_count": null,
   "metadata": {
    "collapsed": true
   },
   "outputs": [],
   "source": [
    "# #THIS WAS TO FIX A FILE!\n",
    "# import cv2\n",
    "\n",
    "# mov2 = np.array([])\n",
    "# mov2 = mov2.reshape(0,144,256)\n",
    "# mov1 = np.load('Data/color/NCfOM02_cl.npy')\n",
    "# mov1 = mov1.T\n",
    "# mov1 = mov1.reshape(np.shape(mov1)[0],144,256,3)\n",
    "# mov1 = mov1.astype(np.float32)\n",
    "\n",
    "# for i in range(np.shape(mov1)[0]):\n",
    "#     frame = cv2.cvtColor(mov1[i,:],cv2.COLOR_BGR2GRAY)\n",
    "#     frame = frame.reshape(1,144,256)\n",
    "#     mov2 = np.append(mov2,frame,axis=0)\n",
    "\n",
    "# mov2 = mov2.T\n",
    "# mov2 = mov2.reshape(144*256,np.shape(mov2)[2])\n",
    "# np.save('Data/blackwhite/NCfOM02_bw.npy',mov2)\n"
   ]
  },
  {
   "cell_type": "markdown",
   "metadata": {},
   "source": [
    "Import data"
   ]
  },
  {
   "cell_type": "code",
   "execution_count": null,
   "metadata": {
    "_cell_guid": "79c7e3d0-c299-4dcb-8224-4455121ee9b0",
    "_uuid": "d629ff2d2480ee46fbb7e2d37f6b5fab8052498a",
    "collapsed": true
   },
   "outputs": [],
   "source": [
    "data_train_file = \"../input/trainData2.csv\"\n",
    "data_test_file = \"../input/testData2.csv\"\n",
    "train_labels_file = \"../input/trainTruth2.csv\"\n",
    "test_labels_file = \"../input/testTruth2.csv\"\n",
    "\n",
    "df_train = pd.read_csv(data_train_file)\n",
    "df_test = pd.read_csv(data_test_file)\n",
    "train_labels = pd.read_csv(train_labels_file)\n",
    "test_labels = pd.read_csv(test_labels_file)\n",
    "train_length = df_train.shape[1]\n",
    "train_samples = df_train.shape[0]\n",
    "test_length = df_test.shape[1]\n",
    "test_samples = df_test.shape[0]\n",
    "\n"
   ]
  },
  {
   "cell_type": "code",
   "execution_count": null,
   "metadata": {
    "collapsed": true
   },
   "outputs": [],
   "source": [
    "train_labels.shape"
   ]
  },
  {
   "cell_type": "code",
   "execution_count": null,
   "metadata": {
    "collapsed": true
   },
   "outputs": [],
   "source": [
    "data_length"
   ]
  },
  {
   "cell_type": "code",
   "execution_count": null,
   "metadata": {
    "collapsed": true
   },
   "outputs": [],
   "source": [
    "def get_features(df):\n",
    "    features = df.values/255\n",
    "    return features"
   ]
  },
  {
   "cell_type": "code",
   "execution_count": null,
   "metadata": {
    "collapsed": true
   },
   "outputs": [],
   "source": [
    "train_features = get_features(df_train)\n",
    "test_features = get_features(df_test)\n",
    "train_features = train_features.reshape(144,256,3,1,train_samples)\n",
    "train_features = np.transpose(train_features, (4,0,1,2,3))\n",
    "test_features = test_features.reshape(144,256,3,1,test_samples)\n",
    "test_features = np.transpose(test_features, (4,0,1,2,3))"
   ]
  },
  {
   "cell_type": "code",
   "execution_count": null,
   "metadata": {
    "collapsed": true
   },
   "outputs": [],
   "source": [
    "# example_index = 10\n",
    "# plt.figure()\n",
    "# _ = plt.imshow(np.reshape(train_features[example_index, :], (144, 256, 3)), 'gray')"
   ]
  },
  {
   "cell_type": "code",
   "execution_count": null,
   "metadata": {
    "collapsed": true
   },
   "outputs": [],
   "source": [
    "# image = train_features[0]*255\n",
    "# image = image.astype(np.uint8)\n",
    "# image = np.reshape(image,(144,256,3))\n",
    "\n",
    "# plt.imshow(image)"
   ]
  },
  {
   "cell_type": "markdown",
   "metadata": {},
   "source": [
    "**Convert labels to one-hot encoding**"
   ]
  },
  {
   "cell_type": "code",
   "execution_count": null,
   "metadata": {
    "collapsed": true
   },
   "outputs": [],
   "source": [
    "train_labels = tf.keras.utils.to_categorical(train_labels)\n",
    "test_labels = tf.keras.utils.to_categorical(test_labels)"
   ]
  },
  {
   "cell_type": "markdown",
   "metadata": {},
   "source": [
    "**Create the model**"
   ]
  },
  {
   "cell_type": "code",
   "execution_count": null,
   "metadata": {
    "collapsed": true
   },
   "outputs": [],
   "source": [
    "model = tf.keras.Sequential()\n",
    "model.add(tf.keras.layers.Conv3D(3, kernel_size=(3, 3, 1), activation='relu', input_shape=(144,256,3,1)))\n",
    "model.add(tf.keras.layers.Conv3D(3, kernel_size=(3, 3, 1), activation='relu'))\n",
    "model.add(tf.keras.layers.Dense(3, activation = tf.nn.relu))\n",
    "model.add(tf.keras.layers.MaxPooling3D(pool_size=(2, 2, 1)))\n",
    "model.add(tf.keras.layers.Flatten())\n",
    "# model.add(tf.keras.layers.Dense(3, activation = tf.nn.relu))\n",
    "model.add(tf.keras.layers.Dense(3, activation = tf.nn.softmax))"
   ]
  },
  {
   "cell_type": "code",
   "execution_count": null,
   "metadata": {
    "collapsed": true
   },
   "outputs": [],
   "source": [
    "model.compile(loss='categorical_crossentropy',\n",
    "              optimizer='rmsprop',\n",
    "              metrics=['accuracy'])\n",
    "model.summary()"
   ]
  },
  {
   "cell_type": "markdown",
   "metadata": {},
   "source": [
    "**Training Time!**"
   ]
  },
  {
   "cell_type": "code",
   "execution_count": null,
   "metadata": {
    "collapsed": true
   },
   "outputs": [],
   "source": [
    "EPOCHS = 3\n",
    "BATCH_SIZE = 150\n"
   ]
  },
  {
   "cell_type": "code",
   "execution_count": null,
   "metadata": {
    "collapsed": true
   },
   "outputs": [],
   "source": [
    "train_features.shape"
   ]
  },
  {
   "cell_type": "code",
   "execution_count": null,
   "metadata": {
    "collapsed": true
   },
   "outputs": [],
   "source": [
    "train_labels.shape"
   ]
  },
  {
   "cell_type": "code",
   "execution_count": null,
   "metadata": {
    "collapsed": true
   },
   "outputs": [],
   "source": [
    "model.fit(train_features, train_labels, epochs=EPOCHS, batch_size=BATCH_SIZE)"
   ]
  },
  {
   "cell_type": "markdown",
   "metadata": {},
   "source": [
    "**Testing the model**"
   ]
  },
  {
   "cell_type": "code",
   "execution_count": null,
   "metadata": {
    "collapsed": true
   },
   "outputs": [],
   "source": [
    "test_loss, test_acc = model.evaluate(test_features, test_labels)"
   ]
  },
  {
   "cell_type": "code",
   "execution_count": null,
   "metadata": {
    "collapsed": true
   },
   "outputs": [],
   "source": [
    "print('test_acc: ',test_acc)"
   ]
  },
  {
   "cell_type": "code",
   "execution_count": null,
   "metadata": {
    "collapsed": true
   },
   "outputs": [],
   "source": []
  }
 ],
 "metadata": {
  "kernelspec": {
   "display_name": "Python 3",
   "language": "python",
   "name": "python3"
  },
  "language_info": {
   "codemirror_mode": {
    "name": "ipython",
    "version": 3
   },
   "file_extension": ".py",
   "mimetype": "text/x-python",
   "name": "python",
   "nbconvert_exporter": "python",
   "pygments_lexer": "ipython3",
   "version": "3.5.3"
  }
 },
 "nbformat": 4,
 "nbformat_minor": 1
}
